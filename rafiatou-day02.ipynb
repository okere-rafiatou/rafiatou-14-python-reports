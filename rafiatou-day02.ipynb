{
 "cells": [
  {
   "cell_type": "markdown",
   "id": "76f630e0",
   "metadata": {},
   "source": [
    "\n",
    "# Practical_1: Variables and Assignments"
   ]
  },
  {
   "cell_type": "markdown",
   "id": "40c8bf59",
   "metadata": {},
   "source": [
    "\n",
    "### Exercise 1:"
   ]
  },
  {
   "cell_type": "code",
   "execution_count": 1,
   "id": "74350a47",
   "metadata": {},
   "outputs": [],
   "source": [
    "# declare a avriable 'x' and assign it the value '10'\n",
    "x = 10"
   ]
  },
  {
   "cell_type": "markdown",
   "id": "b8d40a96",
   "metadata": {},
   "source": [
    "### Exercise 2"
   ]
  },
  {
   "cell_type": "code",
   "execution_count": 88,
   "id": "357c09c9",
   "metadata": {},
   "outputs": [],
   "source": [
    "is_valid = True"
   ]
  },
  {
   "cell_type": "markdown",
   "id": "bafd9c3e",
   "metadata": {},
   "source": [
    "### Exercise 3"
   ]
  },
  {
   "cell_type": "code",
   "execution_count": 3,
   "id": "14d1dda0",
   "metadata": {},
   "outputs": [],
   "source": [
    "name = \"Python Programming\""
   ]
  },
  {
   "cell_type": "markdown",
   "id": "1f87957d",
   "metadata": {},
   "source": [
    "### exercise 4"
   ]
  },
  {
   "cell_type": "code",
   "execution_count": 5,
   "id": "b17bd381",
   "metadata": {},
   "outputs": [],
   "source": [
    "a = 5\n",
    "b = 3\n",
    "sum_result = a +b"
   ]
  },
  {
   "cell_type": "markdown",
   "id": "365dc308",
   "metadata": {},
   "source": [
    "### exercise 5"
   ]
  },
  {
   "cell_type": "code",
   "execution_count": 11,
   "id": "dacc32c9",
   "metadata": {},
   "outputs": [
    {
     "name": "stdout",
     "output_type": "stream",
     "text": [
      "5 10 15\n"
     ]
    }
   ],
   "source": [
    "a,b,c = 5, 10, 15\n",
    "print(a,b,c)"
   ]
  },
  {
   "cell_type": "markdown",
   "id": "a971aee6",
   "metadata": {},
   "source": [
    "### exercise 6"
   ]
  },
  {
   "cell_type": "code",
   "execution_count": 89,
   "id": "c4623242",
   "metadata": {},
   "outputs": [],
   "source": [
    "x =2\n",
    "y = x\n"
   ]
  },
  {
   "cell_type": "markdown",
   "id": "642a447e",
   "metadata": {},
   "source": [
    "### exercise 7"
   ]
  },
  {
   "cell_type": "code",
   "execution_count": 14,
   "id": "1f059031",
   "metadata": {},
   "outputs": [],
   "source": [
    "gravity = 9.8\n"
   ]
  },
  {
   "cell_type": "code",
   "execution_count": 15,
   "id": "55dda125",
   "metadata": {},
   "outputs": [],
   "source": [
    "#8\n",
    "country = \"Benin\""
   ]
  },
  {
   "cell_type": "code",
   "execution_count": 44,
   "id": "ca097bb5",
   "metadata": {},
   "outputs": [],
   "source": [
    "#9\n",
    "a = 25\n",
    "a = a +1"
   ]
  },
  {
   "cell_type": "code",
   "execution_count": 18,
   "id": "75ae936a",
   "metadata": {},
   "outputs": [],
   "source": [
    "#10\n",
    "a = 20 -7"
   ]
  },
  {
   "cell_type": "code",
   "execution_count": 19,
   "id": "c998e46a",
   "metadata": {},
   "outputs": [],
   "source": [
    "#11\n",
    "a = 12\n",
    "b = 12.5"
   ]
  },
  {
   "cell_type": "code",
   "execution_count": 20,
   "id": "7b5d6241",
   "metadata": {},
   "outputs": [],
   "source": [
    "#12\n",
    "is_completed = \"False\""
   ]
  },
  {
   "cell_type": "code",
   "execution_count": 22,
   "id": "cabffbe1",
   "metadata": {},
   "outputs": [],
   "source": [
    "#13\n",
    "x = 2\n",
    "y = 4\n",
    "x,y =y,x"
   ]
  },
  {
   "cell_type": "code",
   "execution_count": 23,
   "id": "83299126",
   "metadata": {},
   "outputs": [],
   "source": [
    "#14\n",
    "complex_num = 3 +4j\n"
   ]
  },
  {
   "cell_type": "code",
   "execution_count": 25,
   "id": "243ec7df",
   "metadata": {},
   "outputs": [
    {
     "data": {
      "text/plain": [
       "str"
      ]
     },
     "execution_count": 25,
     "metadata": {},
     "output_type": "execute_result"
    }
   ],
   "source": [
    "#15\n",
    "a = 1\n",
    "b = str(a) \n",
    "type(b)"
   ]
  },
  {
   "cell_type": "code",
   "execution_count": 26,
   "id": "88c3f8b1",
   "metadata": {},
   "outputs": [],
   "source": [
    "#16\n",
    "first_name = \"Rafiatou\"\n",
    "last_name = \"OKERE\"\n"
   ]
  },
  {
   "cell_type": "code",
   "execution_count": 27,
   "id": "b64884c6",
   "metadata": {},
   "outputs": [],
   "source": [
    "#17\n",
    "temperature = 35.5"
   ]
  },
  {
   "cell_type": "code",
   "execution_count": 28,
   "id": "92bfdd1f",
   "metadata": {},
   "outputs": [],
   "source": [
    "#18\n",
    "product = 8*6"
   ]
  },
  {
   "cell_type": "code",
   "execution_count": 29,
   "id": "86af6d71",
   "metadata": {},
   "outputs": [],
   "source": [
    "#19\n",
    "sentence = \"I like food\"\n"
   ]
  },
  {
   "cell_type": "code",
   "execution_count": 33,
   "id": "d91aa743",
   "metadata": {},
   "outputs": [
    {
     "data": {
      "text/plain": [
       "int"
      ]
     },
     "execution_count": 33,
     "metadata": {},
     "output_type": "execute_result"
    }
   ],
   "source": [
    "#20\n",
    "tt = '50'\n",
    "int_value = int('50')\n",
    "type(tt)\n",
    "type(int_value)"
   ]
  },
  {
   "cell_type": "code",
   "execution_count": 36,
   "id": "5c97391f",
   "metadata": {},
   "outputs": [
    {
     "name": "stdout",
     "output_type": "stream",
     "text": [
      "12.0\n"
     ]
    }
   ],
   "source": [
    "#21\n",
    "quotient = 144/12\n",
    "print(quotient)"
   ]
  },
  {
   "cell_type": "code",
   "execution_count": 37,
   "id": "f61aef7e",
   "metadata": {},
   "outputs": [],
   "source": [
    "#23\n",
    "is_student = \"True\""
   ]
  },
  {
   "cell_type": "code",
   "execution_count": 39,
   "id": "dace1d0f",
   "metadata": {},
   "outputs": [
    {
     "name": "stdout",
     "output_type": "stream",
     "text": [
      "1\n"
     ]
    }
   ],
   "source": [
    "#24\n",
    "result = 45 % 4\n",
    "print(result)"
   ]
  },
  {
   "cell_type": "code",
   "execution_count": 40,
   "id": "8a20d681",
   "metadata": {},
   "outputs": [],
   "source": [
    "#25\n",
    "pi = 3.14159"
   ]
  },
  {
   "cell_type": "code",
   "execution_count": 43,
   "id": "bf4e8765",
   "metadata": {},
   "outputs": [],
   "source": [
    "#26\n",
    "length = 23\n",
    "width = 24\n",
    "area = length * width"
   ]
  },
  {
   "cell_type": "code",
   "execution_count": 45,
   "id": "f41d9a28",
   "metadata": {},
   "outputs": [],
   "source": [
    "#27\n",
    "negative_value = -1"
   ]
  },
  {
   "cell_type": "code",
   "execution_count": 46,
   "id": "ebf70f06",
   "metadata": {},
   "outputs": [],
   "source": [
    "#28\n",
    "greeting = \"Hello World!\""
   ]
  },
  {
   "cell_type": "code",
   "execution_count": 48,
   "id": "a0079585",
   "metadata": {},
   "outputs": [
    {
     "name": "stdout",
     "output_type": "stream",
     "text": [
      "1267650600228229401496703205376\n"
     ]
    }
   ],
   "source": [
    "#29\n",
    "population = 1267650600228229401496703205376\n",
    "print(population)"
   ]
  },
  {
   "cell_type": "code",
   "execution_count": 49,
   "id": "09720b55",
   "metadata": {},
   "outputs": [],
   "source": [
    "#30\n",
    "result = 2**8"
   ]
  },
  {
   "cell_type": "code",
   "execution_count": 50,
   "id": "3a99a1ac",
   "metadata": {},
   "outputs": [],
   "source": [
    "#31 \n",
    "fruits = ['pomme', 'ananas', 'orange']"
   ]
  },
  {
   "cell_type": "code",
   "execution_count": 52,
   "id": "87e9e6c7",
   "metadata": {},
   "outputs": [],
   "source": [
    "#32\n",
    "coordinates = (1,2,3)"
   ]
  },
  {
   "cell_type": "code",
   "execution_count": 54,
   "id": "78a1ebcf",
   "metadata": {},
   "outputs": [],
   "source": [
    "#33\n",
    "person = {\"name\": \"Rafiatou\", \"age\":13}"
   ]
  },
  {
   "cell_type": "code",
   "execution_count": 55,
   "id": "0bfd056a",
   "metadata": {},
   "outputs": [
    {
     "data": {
      "text/plain": [
       "dict_keys(['name', 'age'])"
      ]
     },
     "execution_count": 55,
     "metadata": {},
     "output_type": "execute_result"
    }
   ],
   "source": [
    "person.keys()"
   ]
  },
  {
   "cell_type": "code",
   "execution_count": 56,
   "id": "b4572a46",
   "metadata": {},
   "outputs": [
    {
     "data": {
      "text/plain": [
       "dict_values(['Rafiatou', 13])"
      ]
     },
     "execution_count": 56,
     "metadata": {},
     "output_type": "execute_result"
    }
   ],
   "source": [
    "person.values()"
   ]
  },
  {
   "cell_type": "code",
   "execution_count": 57,
   "id": "6ca52c95",
   "metadata": {},
   "outputs": [
    {
     "name": "stdout",
     "output_type": "stream",
     "text": [
      "3.5\n"
     ]
    }
   ],
   "source": [
    "#34\n",
    "sum = 1.2 +2.3\n",
    "print(sum)"
   ]
  },
  {
   "cell_type": "code",
   "execution_count": 58,
   "id": "3c10aa98",
   "metadata": {},
   "outputs": [],
   "source": [
    "#35\n",
    "is_sunny = \"True\""
   ]
  },
  {
   "cell_type": "code",
   "execution_count": 59,
   "id": "d8178922",
   "metadata": {},
   "outputs": [
    {
     "name": "stdout",
     "output_type": "stream",
     "text": [
      "2 bonj\n"
     ]
    }
   ],
   "source": [
    "#36\n",
    "a = 2\n",
    "b = \"bonj\"\n",
    "print(a,b)"
   ]
  },
  {
   "cell_type": "code",
   "execution_count": 65,
   "id": "996a8fab",
   "metadata": {},
   "outputs": [],
   "source": [
    "#37\n",
    "a = 2\n",
    "a = True"
   ]
  },
  {
   "cell_type": "code",
   "execution_count": 67,
   "id": "a3c7fcac",
   "metadata": {},
   "outputs": [],
   "source": [
    "#38\n",
    "is_weekend = False"
   ]
  },
  {
   "cell_type": "code",
   "execution_count": 68,
   "id": "9e76564c",
   "metadata": {},
   "outputs": [],
   "source": [
    "#39\n",
    "description = \"bonjour\""
   ]
  },
  {
   "cell_type": "code",
   "execution_count": 69,
   "id": "447127b2",
   "metadata": {},
   "outputs": [
    {
     "name": "stdout",
     "output_type": "stream",
     "text": [
      "25\n"
     ]
    }
   ],
   "source": [
    "#40\n",
    "a = -25\n",
    "b = -a\n",
    "print(b)"
   ]
  },
  {
   "cell_type": "code",
   "execution_count": 71,
   "id": "ae62d195",
   "metadata": {},
   "outputs": [
    {
     "name": "stdout",
     "output_type": "stream",
     "text": [
      "16\n"
     ]
    }
   ],
   "source": [
    "#41\n",
    "floor_div_result = 100 // 6\n",
    "print(floor_div_result)"
   ]
  },
  {
   "cell_type": "code",
   "execution_count": 72,
   "id": "8a6a4441",
   "metadata": {},
   "outputs": [],
   "source": [
    "#42\n",
    "mixed_sum = 1.2 + 2\n"
   ]
  },
  {
   "cell_type": "code",
   "execution_count": 76,
   "id": "1965cc59",
   "metadata": {},
   "outputs": [],
   "source": [
    "#43\n",
    "a = 10\n",
    "b = 15\n",
    "if a  > b:\n",
    "    a = True\n",
    "    \n",
    "else:\n",
    "    a = False\n",
    "\n"
   ]
  },
  {
   "cell_type": "code",
   "execution_count": 78,
   "id": "cd7739ac",
   "metadata": {},
   "outputs": [
    {
     "data": {
      "text/plain": [
       "30"
      ]
     },
     "execution_count": 78,
     "metadata": {},
     "output_type": "execute_result"
    }
   ],
   "source": [
    "#44\n",
    "papa = \"La vie c'est les Mathématiques\"\n",
    "len(papa) "
   ]
  },
  {
   "cell_type": "code",
   "execution_count": 79,
   "id": "77e9ab91",
   "metadata": {},
   "outputs": [],
   "source": [
    "#45\n",
    "division_result = 7 / 3 "
   ]
  },
  {
   "cell_type": "code",
   "execution_count": 84,
   "id": "fb962b7c",
   "metadata": {},
   "outputs": [],
   "source": [
    "#46\n",
    "speed =\"100k/h\""
   ]
  },
  {
   "cell_type": "code",
   "execution_count": 86,
   "id": "8aa36f37",
   "metadata": {},
   "outputs": [],
   "source": [
    "# 47\n",
    "x = 4\n",
    "y = 3*x + 5"
   ]
  },
  {
   "cell_type": "code",
   "execution_count": 87,
   "id": "1f61cfec",
   "metadata": {},
   "outputs": [],
   "source": [
    "#48\n",
    "a = 12\n",
    "b = 23\n",
    "c = 14\n",
    "result = a +b+c\n"
   ]
  },
  {
   "cell_type": "code",
   "execution_count": null,
   "id": "f05db56a",
   "metadata": {},
   "outputs": [],
   "source": []
  }
 ],
 "metadata": {
  "kernelspec": {
   "display_name": "Python 3 (ipykernel)",
   "language": "python",
   "name": "python3"
  },
  "language_info": {
   "codemirror_mode": {
    "name": "ipython",
    "version": 3
   },
   "file_extension": ".py",
   "mimetype": "text/x-python",
   "name": "python",
   "nbconvert_exporter": "python",
   "pygments_lexer": "ipython3",
   "version": "3.11.4"
  }
 },
 "nbformat": 4,
 "nbformat_minor": 5
}
